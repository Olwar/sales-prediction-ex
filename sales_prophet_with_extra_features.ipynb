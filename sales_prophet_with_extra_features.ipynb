{
 "cells": [
  {
   "cell_type": "code",
   "execution_count": 15,
   "metadata": {},
   "outputs": [],
   "source": [
    "import pandas\n",
    "import numpy"
   ]
  },
  {
   "cell_type": "code",
   "execution_count": 16,
   "metadata": {},
   "outputs": [
    {
     "data": {
      "text/html": [
       "<div>\n",
       "<style scoped>\n",
       "    .dataframe tbody tr th:only-of-type {\n",
       "        vertical-align: middle;\n",
       "    }\n",
       "\n",
       "    .dataframe tbody tr th {\n",
       "        vertical-align: top;\n",
       "    }\n",
       "\n",
       "    .dataframe thead th {\n",
       "        text-align: right;\n",
       "    }\n",
       "</style>\n",
       "<table border=\"1\" class=\"dataframe\">\n",
       "  <thead>\n",
       "    <tr style=\"text-align: right;\">\n",
       "      <th></th>\n",
       "      <th>sales</th>\n",
       "      <th>date</th>\n",
       "    </tr>\n",
       "  </thead>\n",
       "  <tbody>\n",
       "    <tr>\n",
       "      <th>0</th>\n",
       "      <td>112</td>\n",
       "      <td>2022-08-21</td>\n",
       "    </tr>\n",
       "    <tr>\n",
       "      <th>1</th>\n",
       "      <td>118</td>\n",
       "      <td>2022-08-22</td>\n",
       "    </tr>\n",
       "    <tr>\n",
       "      <th>2</th>\n",
       "      <td>132</td>\n",
       "      <td>2022-08-23</td>\n",
       "    </tr>\n",
       "    <tr>\n",
       "      <th>3</th>\n",
       "      <td>129</td>\n",
       "      <td>2022-08-24</td>\n",
       "    </tr>\n",
       "    <tr>\n",
       "      <th>4</th>\n",
       "      <td>121</td>\n",
       "      <td>2022-08-25</td>\n",
       "    </tr>\n",
       "  </tbody>\n",
       "</table>\n",
       "</div>"
      ],
      "text/plain": [
       "   sales        date\n",
       "0    112  2022-08-21\n",
       "1    118  2022-08-22\n",
       "2    132  2022-08-23\n",
       "3    129  2022-08-24\n",
       "4    121  2022-08-25"
      ]
     },
     "execution_count": 16,
     "metadata": {},
     "output_type": "execute_result"
    }
   ],
   "source": [
    "# Read the data\n",
    "df = pandas.read_csv('sales_data.csv')\n",
    "df.head()"
   ]
  },
  {
   "cell_type": "code",
   "execution_count": 17,
   "metadata": {},
   "outputs": [],
   "source": [
    "# date to datetime object\n",
    "df['date'] = pandas.to_datetime(df['date'])\n",
    "\n",
    "# date to index\n",
    "df.set_index('date', inplace=True)\n"
   ]
  },
  {
   "cell_type": "code",
   "execution_count": 18,
   "metadata": {},
   "outputs": [
    {
     "name": "stdout",
     "output_type": "stream",
     "text": [
      "<class 'pandas.core.frame.DataFrame'>\n",
      "DatetimeIndex: 144 entries, 2022-08-21 to 2023-01-11\n",
      "Data columns (total 1 columns):\n",
      " #   Column  Non-Null Count  Dtype\n",
      "---  ------  --------------  -----\n",
      " 0   sales   144 non-null    int64\n",
      "dtypes: int64(1)\n",
      "memory usage: 2.2 KB\n"
     ]
    },
    {
     "data": {
      "text/plain": [
       "sales    0\n",
       "dtype: int64"
      ]
     },
     "execution_count": 18,
     "metadata": {},
     "output_type": "execute_result"
    }
   ],
   "source": [
    "# general info about the data\n",
    "df.info()\n",
    "\n",
    "# check if there are any missing values\n",
    "df.isnull().sum()"
   ]
  },
  {
   "cell_type": "code",
   "execution_count": 19,
   "metadata": {},
   "outputs": [
    {
     "data": {
      "text/plain": [
       "<AxesSubplot:xlabel='date'>"
      ]
     },
     "execution_count": 19,
     "metadata": {},
     "output_type": "execute_result"
    },
    {
     "data": {
      "image/png": "[encoded data removed]",
      "text/plain": [
       "<Figure size 432x288 with 1 Axes>"
      ]
     },
     "metadata": {
      "needs_background": "light"
     },
     "output_type": "display_data"
    }
   ],
   "source": [
    "# plot the sales in a line chart\n",
    "df.plot()"
   ]
  },
  {
   "cell_type": "code",
   "execution_count": 20,
   "metadata": {},
   "outputs": [],
   "source": [
    "# create lagged features with 5 days lag\n",
    "def create_lags():\n",
    "    for i in range(1, 6):\n",
    "        df['lag_' + str(i)] = df['sales'].shift(i)\n",
    "    return df\n",
    "\n",
    "df = create_lags()\n",
    "\n",
    "# create rolling mean with 5, 10, 15, 20 days window\n",
    "def create_rolling_mean():\n",
    "    for i in [5, 10, 15, 20]:\n",
    "        df['rolling_mean_' + str(i)] = df['sales'].shift().rolling(window=i).mean()\n",
    "    return df\n",
    "\n",
    "df = create_rolling_mean()"
   ]
  },
  {
   "cell_type": "code",
   "execution_count": 21,
   "metadata": {},
   "outputs": [],
   "source": [
    "# drop na\n",
    "df.dropna(inplace=True)"
   ]
  },
  {
   "cell_type": "code",
   "execution_count": 22,
   "metadata": {},
   "outputs": [],
   "source": [
    "# split the data into train and test with in-built function\n",
    "from sklearn.model_selection import train_test_split\n",
    "\n",
    "X = df.drop('sales', axis=1)\n",
    "y = df['sales']\n",
    "\n",
    "X_train, X_test, y_train, y_test = train_test_split(X, y, test_size=0.2, random_state=42, shuffle=False)"
   ]
  },
  {
   "cell_type": "code",
   "execution_count": 23,
   "metadata": {},
   "outputs": [
    {
     "data": {
      "text/html": [
       "<div>\n",
       "<style scoped>\n",
       "    .dataframe tbody tr th:only-of-type {\n",
       "        vertical-align: middle;\n",
       "    }\n",
       "\n",
       "    .dataframe tbody tr th {\n",
       "        vertical-align: top;\n",
       "    }\n",
       "\n",
       "    .dataframe thead th {\n",
       "        text-align: right;\n",
       "    }\n",
       "</style>\n",
       "<table border=\"1\" class=\"dataframe\">\n",
       "  <thead>\n",
       "    <tr style=\"text-align: right;\">\n",
       "      <th></th>\n",
       "      <th>ds</th>\n",
       "      <th>y</th>\n",
       "      <th>lag_1</th>\n",
       "      <th>lag_2</th>\n",
       "      <th>lag_3</th>\n",
       "      <th>lag_4</th>\n",
       "      <th>lag_5</th>\n",
       "      <th>rolling_mean_5</th>\n",
       "      <th>rolling_mean_10</th>\n",
       "      <th>rolling_mean_15</th>\n",
       "      <th>rolling_mean_20</th>\n",
       "    </tr>\n",
       "    <tr>\n",
       "      <th>date</th>\n",
       "      <th></th>\n",
       "      <th></th>\n",
       "      <th></th>\n",
       "      <th></th>\n",
       "      <th></th>\n",
       "      <th></th>\n",
       "      <th></th>\n",
       "      <th></th>\n",
       "      <th></th>\n",
       "      <th></th>\n",
       "      <th></th>\n",
       "    </tr>\n",
       "  </thead>\n",
       "  <tbody>\n",
       "    <tr>\n",
       "      <th>2022-09-10</th>\n",
       "      <td>2022-09-10</td>\n",
       "      <td>158</td>\n",
       "      <td>170.0</td>\n",
       "      <td>170.0</td>\n",
       "      <td>149.0</td>\n",
       "      <td>125.0</td>\n",
       "      <td>135.0</td>\n",
       "      <td>149.8</td>\n",
       "      <td>135.3</td>\n",
       "      <td>135.933333</td>\n",
       "      <td>132.55</td>\n",
       "    </tr>\n",
       "    <tr>\n",
       "      <th>2022-09-11</th>\n",
       "      <td>2022-09-11</td>\n",
       "      <td>133</td>\n",
       "      <td>158.0</td>\n",
       "      <td>170.0</td>\n",
       "      <td>170.0</td>\n",
       "      <td>149.0</td>\n",
       "      <td>125.0</td>\n",
       "      <td>154.4</td>\n",
       "      <td>140.7</td>\n",
       "      <td>137.466667</td>\n",
       "      <td>134.85</td>\n",
       "    </tr>\n",
       "    <tr>\n",
       "      <th>2022-09-12</th>\n",
       "      <td>2022-09-12</td>\n",
       "      <td>114</td>\n",
       "      <td>133.0</td>\n",
       "      <td>158.0</td>\n",
       "      <td>170.0</td>\n",
       "      <td>170.0</td>\n",
       "      <td>149.0</td>\n",
       "      <td>156.0</td>\n",
       "      <td>142.2</td>\n",
       "      <td>136.466667</td>\n",
       "      <td>135.60</td>\n",
       "    </tr>\n",
       "    <tr>\n",
       "      <th>2022-09-13</th>\n",
       "      <td>2022-09-13</td>\n",
       "      <td>140</td>\n",
       "      <td>114.0</td>\n",
       "      <td>133.0</td>\n",
       "      <td>158.0</td>\n",
       "      <td>170.0</td>\n",
       "      <td>170.0</td>\n",
       "      <td>149.0</td>\n",
       "      <td>142.1</td>\n",
       "      <td>134.200000</td>\n",
       "      <td>134.70</td>\n",
       "    </tr>\n",
       "    <tr>\n",
       "      <th>2022-09-14</th>\n",
       "      <td>2022-09-14</td>\n",
       "      <td>145</td>\n",
       "      <td>140.0</td>\n",
       "      <td>114.0</td>\n",
       "      <td>133.0</td>\n",
       "      <td>158.0</td>\n",
       "      <td>170.0</td>\n",
       "      <td>143.0</td>\n",
       "      <td>143.5</td>\n",
       "      <td>134.466667</td>\n",
       "      <td>135.25</td>\n",
       "    </tr>\n",
       "    <tr>\n",
       "      <th>...</th>\n",
       "      <td>...</td>\n",
       "      <td>...</td>\n",
       "      <td>...</td>\n",
       "      <td>...</td>\n",
       "      <td>...</td>\n",
       "      <td>...</td>\n",
       "      <td>...</td>\n",
       "      <td>...</td>\n",
       "      <td>...</td>\n",
       "      <td>...</td>\n",
       "      <td>...</td>\n",
       "    </tr>\n",
       "    <tr>\n",
       "      <th>2022-12-13</th>\n",
       "      <td>2022-12-13</td>\n",
       "      <td>491</td>\n",
       "      <td>435.0</td>\n",
       "      <td>363.0</td>\n",
       "      <td>348.0</td>\n",
       "      <td>362.0</td>\n",
       "      <td>318.0</td>\n",
       "      <td>365.2</td>\n",
       "      <td>355.8</td>\n",
       "      <td>374.333333</td>\n",
       "      <td>358.20</td>\n",
       "    </tr>\n",
       "    <tr>\n",
       "      <th>2022-12-14</th>\n",
       "      <td>2022-12-14</td>\n",
       "      <td>505</td>\n",
       "      <td>491.0</td>\n",
       "      <td>435.0</td>\n",
       "      <td>363.0</td>\n",
       "      <td>348.0</td>\n",
       "      <td>362.0</td>\n",
       "      <td>399.8</td>\n",
       "      <td>364.5</td>\n",
       "      <td>383.866667</td>\n",
       "      <td>369.20</td>\n",
       "    </tr>\n",
       "    <tr>\n",
       "      <th>2022-12-15</th>\n",
       "      <td>2022-12-15</td>\n",
       "      <td>404</td>\n",
       "      <td>505.0</td>\n",
       "      <td>491.0</td>\n",
       "      <td>435.0</td>\n",
       "      <td>363.0</td>\n",
       "      <td>348.0</td>\n",
       "      <td>428.4</td>\n",
       "      <td>380.3</td>\n",
       "      <td>393.866667</td>\n",
       "      <td>379.15</td>\n",
       "    </tr>\n",
       "    <tr>\n",
       "      <th>2022-12-16</th>\n",
       "      <td>2022-12-16</td>\n",
       "      <td>359</td>\n",
       "      <td>404.0</td>\n",
       "      <td>505.0</td>\n",
       "      <td>491.0</td>\n",
       "      <td>435.0</td>\n",
       "      <td>363.0</td>\n",
       "      <td>439.6</td>\n",
       "      <td>390.2</td>\n",
       "      <td>392.666667</td>\n",
       "      <td>383.60</td>\n",
       "    </tr>\n",
       "    <tr>\n",
       "      <th>2022-12-17</th>\n",
       "      <td>2022-12-17</td>\n",
       "      <td>310</td>\n",
       "      <td>359.0</td>\n",
       "      <td>404.0</td>\n",
       "      <td>505.0</td>\n",
       "      <td>491.0</td>\n",
       "      <td>435.0</td>\n",
       "      <td>438.8</td>\n",
       "      <td>392.5</td>\n",
       "      <td>385.600000</td>\n",
       "      <td>386.50</td>\n",
       "    </tr>\n",
       "  </tbody>\n",
       "</table>\n",
       "<p>99 rows × 11 columns</p>\n",
       "</div>"
      ],
      "text/plain": [
       "                   ds    y  lag_1  lag_2  lag_3  lag_4  lag_5  rolling_mean_5  \\\n",
       "date                                                                            \n",
       "2022-09-10 2022-09-10  158  170.0  170.0  149.0  125.0  135.0           149.8   \n",
       "2022-09-11 2022-09-11  133  158.0  170.0  170.0  149.0  125.0           154.4   \n",
       "2022-09-12 2022-09-12  114  133.0  158.0  170.0  170.0  149.0           156.0   \n",
       "2022-09-13 2022-09-13  140  114.0  133.0  158.0  170.0  170.0           149.0   \n",
       "2022-09-14 2022-09-14  145  140.0  114.0  133.0  158.0  170.0           143.0   \n",
       "...               ...  ...    ...    ...    ...    ...    ...             ...   \n",
       "2022-12-13 2022-12-13  491  435.0  363.0  348.0  362.0  318.0           365.2   \n",
       "2022-12-14 2022-12-14  505  491.0  435.0  363.0  348.0  362.0           399.8   \n",
       "2022-12-15 2022-12-15  404  505.0  491.0  435.0  363.0  348.0           428.4   \n",
       "2022-12-16 2022-12-16  359  404.0  505.0  491.0  435.0  363.0           439.6   \n",
       "2022-12-17 2022-12-17  310  359.0  404.0  505.0  491.0  435.0           438.8   \n",
       "\n",
       "            rolling_mean_10  rolling_mean_15  rolling_mean_20  \n",
       "date                                                           \n",
       "2022-09-10            135.3       135.933333           132.55  \n",
       "2022-09-11            140.7       137.466667           134.85  \n",
       "2022-09-12            142.2       136.466667           135.60  \n",
       "2022-09-13            142.1       134.200000           134.70  \n",
       "2022-09-14            143.5       134.466667           135.25  \n",
       "...                     ...              ...              ...  \n",
       "2022-12-13            355.8       374.333333           358.20  \n",
       "2022-12-14            364.5       383.866667           369.20  \n",
       "2022-12-15            380.3       393.866667           379.15  \n",
       "2022-12-16            390.2       392.666667           383.60  \n",
       "2022-12-17            392.5       385.600000           386.50  \n",
       "\n",
       "[99 rows x 11 columns]"
      ]
     },
     "execution_count": 23,
     "metadata": {},
     "output_type": "execute_result"
    }
   ],
   "source": [
    "# create a dataframe with ds and y and add x_train columns on ds\n",
    "df_train = pandas.DataFrame({'ds': X_train.index, 'y': y_train})\n",
    "df_train = df_train.merge(X_train, left_on='ds', right_index=True)\n",
    "\n",
    "df_train"
   ]
  },
  {
   "cell_type": "code",
   "execution_count": 24,
   "metadata": {},
   "outputs": [
    {
     "name": "stderr",
     "output_type": "stream",
     "text": [
      "20:12:58 - cmdstanpy - INFO - Chain [1] start processing\n",
      "20:12:58 - cmdstanpy - INFO - Chain [1] done processing\n"
     ]
    },
    {
     "name": "stdout",
     "output_type": "stream",
     "text": [
      "23.714793441339943\n"
     ]
    },
    {
     "data": {
      "image/png": "[encoded data removed]",
      "text/plain": [
       "<Figure size 720x432 with 1 Axes>"
      ]
     },
     "metadata": {},
     "output_type": "display_data"
    }
   ],
   "source": [
    "# prophet\n",
    "from prophet import Prophet\n",
    "\n",
    "# create a new Prophet object\n",
    "model = Prophet()\n",
    "model.add_regressor('lag_1')\n",
    "model.add_regressor('lag_2')\n",
    "model.add_regressor('lag_3')\n",
    "model.add_regressor('lag_4')\n",
    "model.add_regressor('lag_5')\n",
    "model.add_regressor('rolling_mean_5')\n",
    "model.add_regressor('rolling_mean_10')\n",
    "model.add_regressor('rolling_mean_15')\n",
    "model.add_regressor('rolling_mean_20')\n",
    "\n",
    "# fit the model\n",
    "model.fit(df_train)\n",
    "\n",
    "# create a new dataframe with the dates for which we want to make predictions\n",
    "future = model.make_future_dataframe(periods=29, freq='D', include_history=False)\n",
    "\n",
    "# add the regressors to the future dataframe\n",
    "future = future.merge(X_test, left_on='ds', right_index=True)\n",
    "\n",
    "# make predictions\n",
    "forecast = model.predict(future)\n",
    "\n",
    "# plot the predictions\n",
    "model.plot(forecast)\n",
    "\n",
    "# mae\n",
    "from sklearn.metrics import mean_absolute_error\n",
    "\n",
    "# get the predictions\n",
    "predictions = forecast['yhat'].values\n",
    "\n",
    "# get the actual values\n",
    "actual = y_test.values\n",
    "\n",
    "# calculate the mae\n",
    "mae = mean_absolute_error(actual, predictions)\n",
    "\n",
    "# print the mae\n",
    "print(mae)"
   ]
  },
  {
   "cell_type": "code",
   "execution_count": 25,
   "metadata": {},
   "outputs": [
    {
     "data": {
      "text/plain": [
       "<AxesSubplot:xlabel='date'>"
      ]
     },
     "execution_count": 25,
     "metadata": {},
     "output_type": "execute_result"
    },
    {
     "data": {
      "image/png": "[encoded data removed]",
      "text/plain": [
       "<Figure size 432x288 with 1 Axes>"
      ]
     },
     "metadata": {
      "needs_background": "light"
     },
     "output_type": "display_data"
    }
   ],
   "source": [
    "# plot the train set and y_pred and y_test\n",
    "y_train.plot()\n",
    "forecast.set_index('ds').yhat[-len(y_test):].plot()\n",
    "y_test.plot()"
   ]
  },
  {
   "cell_type": "code",
   "execution_count": null,
   "metadata": {},
   "outputs": [],
   "source": []
  }
 ],
 "metadata": {
  "kernelspec": {
   "display_name": "Python 3",
   "language": "python",
   "name": "python3"
  },
  "language_info": {
   "codemirror_mode": {
    "name": "ipython",
    "version": 3
   },
   "file_extension": ".py",
   "mimetype": "text/x-python",
   "name": "python",
   "nbconvert_exporter": "python",
   "pygments_lexer": "ipython3",
   "version": "3.8.10 (default, Nov 14 2022, 12:59:47) \n[GCC 9.4.0]"
  },
  "orig_nbformat": 4,
  "vscode": {
   "interpreter": {
    "hash": "916dbcbb3f70747c44a77c7bcd40155683ae19c65e1c03b4aa3499c5328201f1"
   }
  }
 },
 "nbformat": 4,
 "nbformat_minor": 2
}
