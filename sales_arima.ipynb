{
 "cells": [
  {
   "attachments": {},
   "cell_type": "markdown",
   "metadata": {},
   "source": [
    "# Sales Prediction With ARIMA"
   ]
  },
  {
   "cell_type": "code",
   "execution_count": 1,
   "metadata": {},
   "outputs": [],
   "source": [
    "import pandas\n",
    "import numpy\n",
    "import matplotlib.pyplot as plt"
   ]
  },
  {
   "cell_type": "code",
   "execution_count": 2,
   "metadata": {},
   "outputs": [
    {
     "data": {
      "text/html": [
       "<div>\n",
       "<style scoped>\n",
       "    .dataframe tbody tr th:only-of-type {\n",
       "        vertical-align: middle;\n",
       "    }\n",
       "\n",
       "    .dataframe tbody tr th {\n",
       "        vertical-align: top;\n",
       "    }\n",
       "\n",
       "    .dataframe thead th {\n",
       "        text-align: right;\n",
       "    }\n",
       "</style>\n",
       "<table border=\"1\" class=\"dataframe\">\n",
       "  <thead>\n",
       "    <tr style=\"text-align: right;\">\n",
       "      <th></th>\n",
       "      <th>sales</th>\n",
       "      <th>date</th>\n",
       "    </tr>\n",
       "  </thead>\n",
       "  <tbody>\n",
       "    <tr>\n",
       "      <th>0</th>\n",
       "      <td>112</td>\n",
       "      <td>2022-08-21</td>\n",
       "    </tr>\n",
       "    <tr>\n",
       "      <th>1</th>\n",
       "      <td>118</td>\n",
       "      <td>2022-08-22</td>\n",
       "    </tr>\n",
       "    <tr>\n",
       "      <th>2</th>\n",
       "      <td>132</td>\n",
       "      <td>2022-08-23</td>\n",
       "    </tr>\n",
       "    <tr>\n",
       "      <th>3</th>\n",
       "      <td>129</td>\n",
       "      <td>2022-08-24</td>\n",
       "    </tr>\n",
       "    <tr>\n",
       "      <th>4</th>\n",
       "      <td>121</td>\n",
       "      <td>2022-08-25</td>\n",
       "    </tr>\n",
       "  </tbody>\n",
       "</table>\n",
       "</div>"
      ],
      "text/plain": [
       "   sales        date\n",
       "0    112  2022-08-21\n",
       "1    118  2022-08-22\n",
       "2    132  2022-08-23\n",
       "3    129  2022-08-24\n",
       "4    121  2022-08-25"
      ]
     },
     "execution_count": 2,
     "metadata": {},
     "output_type": "execute_result"
    }
   ],
   "source": [
    "# Read the data\n",
    "df = pandas.read_csv('sales_data.csv')\n",
    "df.head()"
   ]
  },
  {
   "cell_type": "code",
   "execution_count": 3,
   "metadata": {},
   "outputs": [],
   "source": [
    "# date to datetime object\n",
    "df['date'] = pandas.to_datetime(df['date'])\n",
    "\n",
    "# date to index\n",
    "df.set_index('date', inplace=True)\n"
   ]
  },
  {
   "cell_type": "code",
   "execution_count": 4,
   "metadata": {},
   "outputs": [
    {
     "name": "stdout",
     "output_type": "stream",
     "text": [
      "<class 'pandas.core.frame.DataFrame'>\n",
      "DatetimeIndex: 144 entries, 2022-08-21 to 2023-01-11\n",
      "Data columns (total 1 columns):\n",
      " #   Column  Non-Null Count  Dtype\n",
      "---  ------  --------------  -----\n",
      " 0   sales   144 non-null    int64\n",
      "dtypes: int64(1)\n",
      "memory usage: 2.2 KB\n"
     ]
    },
    {
     "data": {
      "text/plain": [
       "sales    0\n",
       "dtype: int64"
      ]
     },
     "execution_count": 4,
     "metadata": {},
     "output_type": "execute_result"
    }
   ],
   "source": [
    "# general info about the data\n",
    "df.info()\n",
    "\n",
    "# check if there are any missing values\n",
    "df.isnull().sum()"
   ]
  },
  {
   "cell_type": "code",
   "execution_count": 5,
   "metadata": {},
   "outputs": [
    {
     "data": {
      "text/plain": [
       "<AxesSubplot:xlabel='date'>"
      ]
     },
     "execution_count": 5,
     "metadata": {},
     "output_type": "execute_result"
    },
    {
     "data": {
      "image/png": "[encoded data removed]",
      "text/plain": [
       "<Figure size 432x288 with 1 Axes>"
      ]
     },
     "metadata": {
      "needs_background": "light"
     },
     "output_type": "display_data"
    }
   ],
   "source": [
    "# plot the sales in a line chart\n",
    "df.plot()"
   ]
  },
  {
   "cell_type": "code",
   "execution_count": null,
   "metadata": {},
   "outputs": [],
   "source": [
    "# lets find out if there's a pattern that some day of the week has the most sales\n",
    "df_copy = df\n",
    "\n",
    "df_copy['day_of_week'] = df_copy.index.day_name()\n",
    "\n",
    "# avg of sales for each day of the week\n",
    "week_avg = df_copy.groupby('day_of_week').mean()\n",
    "\n",
    "# plot the week_avg\n",
    "plt.style.use('seaborn')\n",
    "week_avg.plot(kind='bar')\n",
    "plt.show()"
   ]
  },
  {
   "cell_type": "code",
   "execution_count": 6,
   "metadata": {},
   "outputs": [],
   "source": [
    "# split the data into train and test\n",
    "from sklearn.model_selection import train_test_split\n",
    "\n",
    "X = df.drop('sales', axis=1)\n",
    "y = df['sales']\n",
    "\n",
    "X_train, X_test, y_train, y_test = train_test_split(X, y, test_size=0.2, random_state=42, shuffle=False)"
   ]
  },
  {
   "attachments": {},
   "cell_type": "markdown",
   "metadata": {},
   "source": [
    "There are two things to consider before doing the ARIMA. It takes three parameters:  \n",
    "p: the number of lag observations in the model, also known as the lag order.  \n",
    "d: the number of times the raw observations are differenced; also known as the degree of differencing.  \n",
    "q: the size of the moving average window, also known as the order of the moving average.  \n",
    "\n",
    "The The Augmented Dickey-Fuller test will tell us if the data is stationary or not. It has a very clear trend so it should not be. If it is not, then we will have to have some differencing a.k.a. parameter d.\n",
    "\n",
    "The autocorrelation plot will tell us how much of lagging we need. The autocorrelation tells us how much correlation does the time series have with a lagged version itself. So we're gonna try all p-values that still correlates.\n"
   ]
  },
  {
   "cell_type": "code",
   "execution_count": 7,
   "metadata": {},
   "outputs": [
    {
     "name": "stdout",
     "output_type": "stream",
     "text": [
      "ADF Statistic: 0.8153688792060498\n",
      "n_lags: 0.991880243437641\n",
      "p-value: 0.991880243437641\n",
      "Critial Values:\n",
      "   1%, -3.4816817173418295\n",
      "Critial Values:\n",
      "   5%, -2.8840418343195267\n",
      "Critial Values:\n",
      "   10%, -2.578770059171598\n"
     ]
    }
   ],
   "source": [
    "# Setup and Import data\n",
    "from statsmodels.tsa.stattools import adfuller\n",
    "import pandas as pd\n",
    "import numpy as np\n",
    "%matplotlib inline\n",
    "\n",
    "# ADF Test\n",
    "result = adfuller(df.sales, autolag='AIC')\n",
    "print(f'ADF Statistic: {result[0]}')\n",
    "print(f'n_lags: {result[1]}')\n",
    "print(f'p-value: {result[1]}')\n",
    "for key, value in result[4].items():\n",
    "    print('Critial Values:')\n",
    "    print(f'   {key}, {value}')    "
   ]
  },
  {
   "attachments": {},
   "cell_type": "markdown",
   "metadata": {},
   "source": [
    "Okay we can see here that the ADF-test shows us that the data is not stationary like we expected. If the ADF-score is above all critical values and the p-value is over 0.05, that means our data is not stationary. So we need atleast value 1 in parameter d."
   ]
  },
  {
   "cell_type": "code",
   "execution_count": 8,
   "metadata": {},
   "outputs": [
    {
     "data": {
      "image/png": "[encoded data removed]",
      "text/plain": [
       "<Figure size 432x288 with 1 Axes>"
      ]
     },
     "metadata": {
      "needs_background": "light"
     },
     "output_type": "display_data"
    }
   ],
   "source": [
    "from matplotlib import pyplot\n",
    "from pandas.plotting import autocorrelation_plot\n",
    "autocorrelation_plot(df.sales)\n",
    "pyplot.show()"
   ]
  },
  {
   "cell_type": "code",
   "execution_count": 10,
   "metadata": {},
   "outputs": [
    {
     "name": "stderr",
     "output_type": "stream",
     "text": [
      "/home/olli/.local/lib/python3.8/site-packages/statsmodels/tsa/base/tsa_model.py:471: ValueWarning: No frequency information was provided, so inferred frequency D will be used.\n",
      "  self._init_dates(dates, freq)\n",
      "/home/olli/.local/lib/python3.8/site-packages/statsmodels/tsa/base/tsa_model.py:471: ValueWarning: No frequency information was provided, so inferred frequency D will be used.\n",
      "  self._init_dates(dates, freq)\n",
      "/home/olli/.local/lib/python3.8/site-packages/statsmodels/tsa/base/tsa_model.py:471: ValueWarning: No frequency information was provided, so inferred frequency D will be used.\n",
      "  self._init_dates(dates, freq)\n",
      "/home/olli/.local/lib/python3.8/site-packages/statsmodels/tsa/statespace/sarimax.py:966: UserWarning: Non-stationary starting autoregressive parameters found. Using zeros as starting parameters.\n",
      "  warn('Non-stationary starting autoregressive parameters'\n",
      "/home/olli/.local/lib/python3.8/site-packages/statsmodels/base/model.py:604: ConvergenceWarning: Maximum Likelihood optimization failed to converge. Check mle_retvals\n",
      "  warnings.warn(\"Maximum Likelihood optimization failed to \"\n"
     ]
    },
    {
     "name": "stdout",
     "output_type": "stream",
     "text": [
      "ARIMA(15, 0, 0) MAE=64.612\n",
      "ARIMA(15, 0, 1) MAE=54.489\n",
      "ARIMA(15, 0, 2) MAE=55.217\n",
      "ARIMA(15, 0, 3) MAE=54.243\n",
      "ARIMA(15, 0, 5) MAE=60.554\n",
      "ARIMA(15, 0, 10) MAE=56.950\n",
      "ARIMA(15, 0, 20) MAE=58.100\n",
      "ARIMA(15, 1, 0) MAE=37.928\n",
      "ARIMA(15, 1, 1) MAE=38.651\n",
      "ARIMA(15, 1, 2) MAE=37.404\n",
      "ARIMA(15, 1, 3) MAE=36.967\n",
      "ARIMA(15, 1, 5) MAE=37.075\n",
      "ARIMA(15, 1, 10) MAE=27.701\n",
      "ARIMA(15, 1, 20) MAE=26.857\n",
      "ARIMA(20, 0, 0) MAE=65.699\n",
      "ARIMA(20, 0, 1) MAE=63.620\n",
      "ARIMA(20, 0, 2) MAE=58.946\n",
      "ARIMA(20, 0, 3) MAE=54.101\n",
      "ARIMA(20, 0, 5) MAE=49.555\n",
      "ARIMA(20, 0, 10) MAE=60.278\n",
      "ARIMA(20, 0, 20) MAE=57.653\n",
      "ARIMA(20, 1, 0) MAE=34.936\n",
      "ARIMA(20, 1, 1) MAE=35.699\n",
      "ARIMA(20, 1, 2) MAE=35.132\n",
      "ARIMA(20, 1, 3) MAE=34.102\n",
      "ARIMA(20, 1, 5) MAE=34.068\n",
      "ARIMA(20, 1, 10) MAE=25.700\n",
      "ARIMA(20, 1, 20) MAE=26.669\n",
      "ARIMA(25, 0, 0) MAE=52.936\n",
      "ARIMA(25, 0, 1) MAE=54.779\n",
      "ARIMA(25, 0, 2) MAE=53.502\n",
      "ARIMA(25, 0, 3) MAE=54.914\n",
      "ARIMA(25, 0, 5) MAE=50.822\n",
      "ARIMA(25, 0, 10) MAE=47.089\n",
      "ARIMA(25, 0, 20) MAE=55.650\n",
      "ARIMA(25, 1, 0) MAE=30.684\n",
      "ARIMA(25, 1, 1) MAE=30.375\n",
      "ARIMA(25, 1, 2) MAE=32.041\n",
      "ARIMA(25, 1, 3) MAE=31.482\n",
      "ARIMA(25, 1, 5) MAE=30.920\n",
      "ARIMA(25, 1, 10) MAE=25.089\n",
      "ARIMA(25, 1, 20) MAE=23.557\n",
      "ARIMA(30, 0, 0) MAE=55.257\n",
      "ARIMA(30, 0, 1) MAE=55.713\n",
      "ARIMA(30, 0, 2) MAE=49.672\n",
      "ARIMA(30, 0, 3) MAE=48.362\n",
      "ARIMA(30, 0, 5) MAE=43.409\n",
      "ARIMA(30, 0, 10) MAE=57.287\n",
      "ARIMA(30, 0, 20) MAE=56.836\n",
      "ARIMA(30, 1, 0) MAE=35.340\n",
      "ARIMA(30, 1, 1) MAE=34.782\n",
      "ARIMA(30, 1, 2) MAE=34.747\n",
      "ARIMA(30, 1, 3) MAE=34.743\n",
      "ARIMA(30, 1, 5) MAE=32.503\n",
      "ARIMA(30, 1, 10) MAE=33.037\n",
      "ARIMA(30, 1, 20) MAE=23.370\n",
      "ARIMA(40, 0, 0) MAE=54.492\n",
      "ARIMA(40, 0, 1) MAE=58.696\n",
      "ARIMA(40, 0, 2) MAE=50.606\n",
      "ARIMA(40, 0, 3) MAE=51.931\n",
      "ARIMA(40, 0, 5) MAE=52.204\n",
      "ARIMA(40, 0, 10) MAE=49.266\n",
      "ARIMA(40, 0, 20) MAE=41.475\n",
      "ARIMA(40, 1, 0) MAE=35.875\n",
      "ARIMA(40, 1, 1) MAE=33.347\n",
      "ARIMA(40, 1, 2) MAE=34.669\n",
      "ARIMA(40, 1, 3) MAE=35.460\n",
      "ARIMA(40, 1, 5) MAE=36.109\n",
      "ARIMA(40, 1, 10) MAE=30.239\n",
      "ARIMA(40, 1, 20) MAE=81.448\n"
     ]
    }
   ],
   "source": [
    "from statsmodels.tsa.arima.model import ARIMA\n",
    "from sklearn.metrics import mean_absolute_error\n",
    "from sklearn.model_selection import GridSearchCV\n",
    "import numpy as np\n",
    "import warnings\n",
    "\n",
    "p_values = [15,20,25,30,40]\n",
    "d_values = range(1, 3)\n",
    "q_values = [0,1,2,3,5,10,20]\n",
    "\n",
    "# home-made grid search\n",
    "for p in p_values:\n",
    "    for d in d_values:\n",
    "        for q in q_values:\n",
    "            order = (p,d,q)\n",
    "            model = ARIMA(y_train, order=order).fit()\n",
    "            warnings.filterwarnings('ignore')\n",
    "            predictions = model.predict(start=len(y_train), end=len(y_train) + len(y_test)-1)\n",
    "            error = mean_absolute_error(y_test, predictions)\n",
    "            print('ARIMA%s MAE=%.3f' % (order,error))"
   ]
  },
  {
   "cell_type": "code",
   "execution_count": 11,
   "metadata": {},
   "outputs": [],
   "source": [
    "# create the model\n",
    "model = ARIMA(df.sales, order=(25,1,20))\n",
    "\n",
    "# fit the model\n",
    "model_fit = model.fit()\n",
    "\n",
    "# predict the sales\n",
    "forecast = model_fit.get_forecast(steps=len(y_test)*2)\n",
    "y_pred = forecast.predicted_mean\n",
    "y_pred_conf_int = forecast.conf_int(alpha=0.05)"
   ]
  },
  {
   "cell_type": "code",
   "execution_count": 12,
   "metadata": {},
   "outputs": [
    {
     "data": {
      "image/png": "[encoded data removed]",
      "text/plain": [
       "<Figure size 432x288 with 1 Axes>"
      ]
     },
     "metadata": {
      "needs_background": "light"
     },
     "output_type": "display_data"
    }
   ],
   "source": [
    "import matplotlib.pyplot as plt\n",
    "\n",
    "# plot the actual data\n",
    "plt.plot(df.sales, label='Actual')\n",
    "\n",
    "# plot the predicted mean values\n",
    "plt.plot(y_pred, label='Predicted', color='red')\n",
    "\n",
    "# plot the lower and upper bounds of the confidence interval as shaded regions\n",
    "plt.fill_between(y_pred_conf_int.index, y_pred_conf_int.iloc[:, 0], y_pred_conf_int.iloc[:, 1], color='orange', alpha=0.5)\n",
    "\n",
    "# add labels, title and legend\n",
    "plt.xlabel('Date')\n",
    "plt.ylabel('Sales')\n",
    "plt.title('ARIMA Forecast with 95% Confidence Interval')\n",
    "plt.legend()\n",
    "\n",
    "# show the plot\n",
    "plt.show()\n"
   ]
  },
  {
   "cell_type": "code",
   "execution_count": null,
   "metadata": {},
   "outputs": [],
   "source": [
    "import pickle\n",
    "\n",
    "# save the model to disk\n",
    "filename = 'sales_model.sav'\n",
    "\n",
    "# save the model to disk\n",
    "pickle.dump(model_fit, open(filename, 'wb'))"
   ]
  }
 ],
 "metadata": {
  "kernelspec": {
   "display_name": "Python 3",
   "language": "python",
   "name": "python3"
  },
  "language_info": {
   "codemirror_mode": {
    "name": "ipython",
    "version": 3
   },
   "file_extension": ".py",
   "mimetype": "text/x-python",
   "name": "python",
   "nbconvert_exporter": "python",
   "pygments_lexer": "ipython3",
   "version": "3.8.10 (default, Nov 14 2022, 12:59:47) \n[GCC 9.4.0]"
  },
  "orig_nbformat": 4,
  "vscode": {
   "interpreter": {
    "hash": "916dbcbb3f70747c44a77c7bcd40155683ae19c65e1c03b4aa3499c5328201f1"
   }
  }
 },
 "nbformat": 4,
 "nbformat_minor": 2
}
