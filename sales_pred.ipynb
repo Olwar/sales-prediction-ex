{
 "cells": [
  {
   "cell_type": "code",
   "execution_count": 95,
   "metadata": {},
   "outputs": [],
   "source": [
    "import pandas\n",
    "import numpy"
   ]
  },
  {
   "cell_type": "code",
   "execution_count": 96,
   "metadata": {},
   "outputs": [
    {
     "data": {
      "text/html": [
       "<div>\n",
       "<style scoped>\n",
       "    .dataframe tbody tr th:only-of-type {\n",
       "        vertical-align: middle;\n",
       "    }\n",
       "\n",
       "    .dataframe tbody tr th {\n",
       "        vertical-align: top;\n",
       "    }\n",
       "\n",
       "    .dataframe thead th {\n",
       "        text-align: right;\n",
       "    }\n",
       "</style>\n",
       "<table border=\"1\" class=\"dataframe\">\n",
       "  <thead>\n",
       "    <tr style=\"text-align: right;\">\n",
       "      <th></th>\n",
       "      <th>sales</th>\n",
       "      <th>date</th>\n",
       "    </tr>\n",
       "  </thead>\n",
       "  <tbody>\n",
       "    <tr>\n",
       "      <th>0</th>\n",
       "      <td>112</td>\n",
       "      <td>2022-08-21</td>\n",
       "    </tr>\n",
       "    <tr>\n",
       "      <th>1</th>\n",
       "      <td>118</td>\n",
       "      <td>2022-08-22</td>\n",
       "    </tr>\n",
       "    <tr>\n",
       "      <th>2</th>\n",
       "      <td>132</td>\n",
       "      <td>2022-08-23</td>\n",
       "    </tr>\n",
       "    <tr>\n",
       "      <th>3</th>\n",
       "      <td>129</td>\n",
       "      <td>2022-08-24</td>\n",
       "    </tr>\n",
       "    <tr>\n",
       "      <th>4</th>\n",
       "      <td>121</td>\n",
       "      <td>2022-08-25</td>\n",
       "    </tr>\n",
       "  </tbody>\n",
       "</table>\n",
       "</div>"
      ],
      "text/plain": [
       "   sales        date\n",
       "0    112  2022-08-21\n",
       "1    118  2022-08-22\n",
       "2    132  2022-08-23\n",
       "3    129  2022-08-24\n",
       "4    121  2022-08-25"
      ]
     },
     "execution_count": 96,
     "metadata": {},
     "output_type": "execute_result"
    }
   ],
   "source": [
    "# Read the data\n",
    "df = pandas.read_csv('sales_data.csv')\n",
    "df.head()"
   ]
  },
  {
   "cell_type": "code",
   "execution_count": 97,
   "metadata": {},
   "outputs": [],
   "source": [
    "# date to datetime object\n",
    "df['date'] = pandas.to_datetime(df['date'])\n",
    "\n",
    "# date to index\n",
    "df.set_index('date', inplace=True)"
   ]
  },
  {
   "cell_type": "code",
   "execution_count": 98,
   "metadata": {},
   "outputs": [
    {
     "name": "stdout",
     "output_type": "stream",
     "text": [
      "<class 'pandas.core.frame.DataFrame'>\n",
      "DatetimeIndex: 144 entries, 2022-08-21 to 2023-01-11\n",
      "Data columns (total 1 columns):\n",
      " #   Column  Non-Null Count  Dtype\n",
      "---  ------  --------------  -----\n",
      " 0   sales   144 non-null    int64\n",
      "dtypes: int64(1)\n",
      "memory usage: 2.2 KB\n"
     ]
    },
    {
     "data": {
      "text/plain": [
       "sales    0\n",
       "dtype: int64"
      ]
     },
     "execution_count": 98,
     "metadata": {},
     "output_type": "execute_result"
    }
   ],
   "source": [
    "# general info about the data\n",
    "df.info()\n",
    "\n",
    "# check if there are any missing values\n",
    "df.isnull().sum()"
   ]
  },
  {
   "cell_type": "code",
   "execution_count": 99,
   "metadata": {},
   "outputs": [
    {
     "data": {
      "text/plain": [
       "<AxesSubplot:xlabel='date'>"
      ]
     },
     "execution_count": 99,
     "metadata": {},
     "output_type": "execute_result"
    },
    {
     "data": {
      "image/png": "[encoded data removed]",
      "text/plain": [
       "<Figure size 432x288 with 1 Axes>"
      ]
     },
     "metadata": {
      "needs_background": "light"
     },
     "output_type": "display_data"
    }
   ],
   "source": [
    "# plot the sales in a line chart\n",
    "df.plot()"
   ]
  },
  {
   "cell_type": "code",
   "execution_count": 100,
   "metadata": {},
   "outputs": [
    {
     "data": {
      "text/html": [
       "<div>\n",
       "<style scoped>\n",
       "    .dataframe tbody tr th:only-of-type {\n",
       "        vertical-align: middle;\n",
       "    }\n",
       "\n",
       "    .dataframe tbody tr th {\n",
       "        vertical-align: top;\n",
       "    }\n",
       "\n",
       "    .dataframe thead th {\n",
       "        text-align: right;\n",
       "    }\n",
       "</style>\n",
       "<table border=\"1\" class=\"dataframe\">\n",
       "  <thead>\n",
       "    <tr style=\"text-align: right;\">\n",
       "      <th></th>\n",
       "      <th>sales</th>\n",
       "      <th>t-1</th>\n",
       "      <th>t-2</th>\n",
       "      <th>t-3</th>\n",
       "      <th>t-4</th>\n",
       "      <th>t-5</th>\n",
       "    </tr>\n",
       "    <tr>\n",
       "      <th>date</th>\n",
       "      <th></th>\n",
       "      <th></th>\n",
       "      <th></th>\n",
       "      <th></th>\n",
       "      <th></th>\n",
       "      <th></th>\n",
       "    </tr>\n",
       "  </thead>\n",
       "  <tbody>\n",
       "    <tr>\n",
       "      <th>2022-08-26</th>\n",
       "      <td>135</td>\n",
       "      <td>121.0</td>\n",
       "      <td>129.0</td>\n",
       "      <td>132.0</td>\n",
       "      <td>118.0</td>\n",
       "      <td>112.0</td>\n",
       "    </tr>\n",
       "    <tr>\n",
       "      <th>2022-08-27</th>\n",
       "      <td>148</td>\n",
       "      <td>135.0</td>\n",
       "      <td>121.0</td>\n",
       "      <td>129.0</td>\n",
       "      <td>132.0</td>\n",
       "      <td>118.0</td>\n",
       "    </tr>\n",
       "    <tr>\n",
       "      <th>2022-08-28</th>\n",
       "      <td>148</td>\n",
       "      <td>148.0</td>\n",
       "      <td>135.0</td>\n",
       "      <td>121.0</td>\n",
       "      <td>129.0</td>\n",
       "      <td>132.0</td>\n",
       "    </tr>\n",
       "    <tr>\n",
       "      <th>2022-08-29</th>\n",
       "      <td>136</td>\n",
       "      <td>148.0</td>\n",
       "      <td>148.0</td>\n",
       "      <td>135.0</td>\n",
       "      <td>121.0</td>\n",
       "      <td>129.0</td>\n",
       "    </tr>\n",
       "    <tr>\n",
       "      <th>2022-08-30</th>\n",
       "      <td>119</td>\n",
       "      <td>136.0</td>\n",
       "      <td>148.0</td>\n",
       "      <td>148.0</td>\n",
       "      <td>135.0</td>\n",
       "      <td>121.0</td>\n",
       "    </tr>\n",
       "  </tbody>\n",
       "</table>\n",
       "</div>"
      ],
      "text/plain": [
       "            sales    t-1    t-2    t-3    t-4    t-5\n",
       "date                                                \n",
       "2022-08-26    135  121.0  129.0  132.0  118.0  112.0\n",
       "2022-08-27    148  135.0  121.0  129.0  132.0  118.0\n",
       "2022-08-28    148  148.0  135.0  121.0  129.0  132.0\n",
       "2022-08-29    136  148.0  148.0  135.0  121.0  129.0\n",
       "2022-08-30    119  136.0  148.0  148.0  135.0  121.0"
      ]
     },
     "execution_count": 100,
     "metadata": {},
     "output_type": "execute_result"
    }
   ],
   "source": [
    "# create lagged features for sales for five days\n",
    "def create_lagged_features(dataframe, lag=1):\n",
    "    dataframe['t-'+str(lag)] = dataframe['sales'].shift(lag)\n",
    "    return dataframe\n",
    "\n",
    "for i in range(1,6):\n",
    "    df = create_lagged_features(df, i)\n",
    "\n",
    "# drop the first five rows\n",
    "df.dropna(inplace=True)\n",
    "df.head()"
   ]
  },
  {
   "cell_type": "code",
   "execution_count": 101,
   "metadata": {},
   "outputs": [],
   "source": [
    "# split the data into train and test with in-built function\n",
    "from sklearn.model_selection import train_test_split\n",
    "\n",
    "X = df.drop('sales', axis=1)\n",
    "y = df['sales']\n",
    "\n",
    "X_train, X_test, y_train, y_test = train_test_split(X, y, test_size=0.2, random_state=42, shuffle=False)"
   ]
  },
  {
   "cell_type": "code",
   "execution_count": 102,
   "metadata": {},
   "outputs": [],
   "source": [
    "# # split the data into train, test and dev set\n",
    "# def split_data(dataframe):\n",
    "#     train = dataframe[:int(0.7*(len(dataframe)))]\n",
    "#     temp = dataframe[int(0.7*(len(dataframe))):]\n",
    "#     test = temp[:int(0.5*(len(temp)))]\n",
    "#     dev = temp[int(0.5*(len(temp))):]\n",
    "#     return train, test, dev\n",
    "# \n",
    "# train, test, dev = split_data(df)"
   ]
  },
  {
   "cell_type": "code",
   "execution_count": 103,
   "metadata": {},
   "outputs": [],
   "source": [
    "# # plot the train, test and dev set\n",
    "# train['sales'].plot()\n",
    "# test['sales'].plot()\n",
    "# dev['sales'].plot()\n",
    "# \n",
    "# # the gaps are normal because the sales can vary a lot from day to day"
   ]
  },
  {
   "cell_type": "code",
   "execution_count": 104,
   "metadata": {},
   "outputs": [],
   "source": [
    "# # split the data into x and y\n",
    "# def split_x_y(dataframe):\n",
    "#     x = dataframe.drop('sales', axis=1)\n",
    "#     y = dataframe['sales']\n",
    "#     return x, y\n",
    "# \n",
    "# x_train, y_train = split_x_y(train)\n",
    "# x_test, y_test = split_x_y(test)\n",
    "# x_dev, y_dev = split_x_y(dev)"
   ]
  },
  {
   "cell_type": "code",
   "execution_count": 105,
   "metadata": {},
   "outputs": [
    {
     "data": {
      "text/plain": [
       "65.67018454415458"
      ]
     },
     "execution_count": 105,
     "metadata": {},
     "output_type": "execute_result"
    }
   ],
   "source": [
    "import xgboost as xgb\n",
    "from sklearn.metrics import mean_absolute_error\n",
    "\n",
    "# create the model\n",
    "model = xgb.XGBRegressor()\n",
    "\n",
    "# fit the model\n",
    "model.fit(X_train, y_train)\n",
    "\n",
    "# predict the sales\n",
    "y_pred = model.predict(X_test)\n",
    "\n",
    "# calculate the mean absolute error\n",
    "mean_absolute_error(y_test, y_pred)"
   ]
  },
  {
   "cell_type": "code",
   "execution_count": 106,
   "metadata": {},
   "outputs": [],
   "source": [
    "#XGBoost: 65.67"
   ]
  },
  {
   "cell_type": "code",
   "execution_count": 107,
   "metadata": {},
   "outputs": [
    {
     "data": {
      "text/plain": [
       "<AxesSubplot:xlabel='date'>"
      ]
     },
     "execution_count": 107,
     "metadata": {},
     "output_type": "execute_result"
    },
    {
     "data": {
      "image/png": "[encoded data removed]",
      "text/plain": [
       "<Figure size 432x288 with 1 Axes>"
      ]
     },
     "metadata": {
      "needs_background": "light"
     },
     "output_type": "display_data"
    }
   ],
   "source": [
    "# plot the train set and y_pred and y_test\n",
    "y_train.plot()\n",
    "pandas.Series(y_pred, index=y_test.index).plot()\n",
    "y_test.plot()\n"
   ]
  },
  {
   "cell_type": "code",
   "execution_count": 108,
   "metadata": {},
   "outputs": [
    {
     "data": {
      "text/plain": [
       "41.035859620503935"
      ]
     },
     "execution_count": 108,
     "metadata": {},
     "output_type": "execute_result"
    }
   ],
   "source": [
    "# linear regression\n",
    "# import the model\n",
    "from sklearn.linear_model import LinearRegression\n",
    "\n",
    "# create the model\n",
    "model = LinearRegression()\n",
    "\n",
    "# fit the model\n",
    "model.fit(X_train, y_train)\n",
    "\n",
    "# predict the sales\n",
    "y_pred = model.predict(X_test)\n",
    "\n",
    "# calculate the mean absolute error\n",
    "mean_absolute_error(y_test, y_pred)"
   ]
  },
  {
   "cell_type": "code",
   "execution_count": 109,
   "metadata": {},
   "outputs": [
    {
     "data": {
      "text/plain": [
       "<AxesSubplot:xlabel='date'>"
      ]
     },
     "execution_count": 109,
     "metadata": {},
     "output_type": "execute_result"
    },
    {
     "data": {
      "image/png": "[encoded data removed]",
      "text/plain": [
       "<Figure size 432x288 with 1 Axes>"
      ]
     },
     "metadata": {
      "needs_background": "light"
     },
     "output_type": "display_data"
    }
   ],
   "source": [
    "# plot the train set and y_pred and y_test\n",
    "y_train.plot()\n",
    "pandas.Series(y_pred, index=y_test.index).plot()\n",
    "y_test.plot()"
   ]
  },
  {
   "cell_type": "code",
   "execution_count": 110,
   "metadata": {},
   "outputs": [
    {
     "data": {
      "text/plain": [
       "46.87142857142856"
      ]
     },
     "execution_count": 110,
     "metadata": {},
     "output_type": "execute_result"
    }
   ],
   "source": [
    "# Random Forest\n",
    "# import the model\n",
    "from sklearn.ensemble import RandomForestRegressor\n",
    "\n",
    "# create the model\n",
    "model = RandomForestRegressor()\n",
    "\n",
    "# fit the model\n",
    "model.fit(X_train, y_train)\n",
    "\n",
    "# predict the sales\n",
    "y_pred = model.predict(X_test)\n",
    "\n",
    "# calculate the mean absolute error\n",
    "mean_absolute_error(y_test, y_pred)"
   ]
  },
  {
   "cell_type": "code",
   "execution_count": 111,
   "metadata": {},
   "outputs": [
    {
     "data": {
      "text/plain": [
       "<AxesSubplot:xlabel='date'>"
      ]
     },
     "execution_count": 111,
     "metadata": {},
     "output_type": "execute_result"
    },
    {
     "data": {
      "image/png": "[encoded data removed]",
      "text/plain": [
       "<Figure size 432x288 with 1 Axes>"
      ]
     },
     "metadata": {
      "needs_background": "light"
     },
     "output_type": "display_data"
    }
   ],
   "source": [
    "# plot the train set and y_pred and y_test\n",
    "y_train.plot()\n",
    "pandas.Series(y_pred, index=y_test.index).plot()\n",
    "y_test.plot()"
   ]
  },
  {
   "attachments": {},
   "cell_type": "markdown",
   "metadata": {},
   "source": [
    "Next we are going to test ARIMA."
   ]
  },
  {
   "cell_type": "code",
   "execution_count": 112,
   "metadata": {},
   "outputs": [
    {
     "name": "stdout",
     "output_type": "stream",
     "text": [
      "ADF Statistic: 0.7223387127445756\n",
      "n_lags: 0.9902732941721091\n",
      "p-value: 0.9902732941721091\n",
      "Critial Values:\n",
      "   1%, -3.4837793736959997\n",
      "Critial Values:\n",
      "   5%, -2.88495387648\n",
      "Critial Values:\n",
      "   10%, -2.579256976\n"
     ]
    }
   ],
   "source": [
    "# Setup and Import data\n",
    "from statsmodels.tsa.stattools import adfuller\n",
    "import pandas as pd\n",
    "import numpy as np\n",
    "%matplotlib inline\n",
    "\n",
    "# ADF Test\n",
    "result = adfuller(df.sales, autolag='AIC')\n",
    "print(f'ADF Statistic: {result[0]}')\n",
    "print(f'n_lags: {result[1]}')\n",
    "print(f'p-value: {result[1]}')\n",
    "for key, value in result[4].items():\n",
    "    print('Critial Values:')\n",
    "    print(f'   {key}, {value}')    "
   ]
  },
  {
   "attachments": {},
   "cell_type": "markdown",
   "metadata": {},
   "source": [
    "A p-value greater than 0.05 and the ADF statistic is greater than the critical values,\n",
    "suggests that the null hypothesis that the time series is non-stationary cannot be rejected. \n",
    "In other words, the data is non-stationary.\n",
    "\n",
    "It will require differencing to make it stationary, at least a difference order of 1."
   ]
  },
  {
   "cell_type": "code",
   "execution_count": 113,
   "metadata": {},
   "outputs": [
    {
     "data": {
      "image/png": "[encoded data removed]",
      "text/plain": [
       "<Figure size 432x288 with 1 Axes>"
      ]
     },
     "metadata": {
      "needs_background": "light"
     },
     "output_type": "display_data"
    }
   ],
   "source": [
    "from matplotlib import pyplot\n",
    "from pandas.plotting import autocorrelation_plot\n",
    "autocorrelation_plot(df.sales)\n",
    "pyplot.show()"
   ]
  },
  {
   "cell_type": "markdown",
   "metadata": {},
   "source": [
    "The parameters p, d, and q in an ARIMA model refer to the order of the differencing, the order of the autoregression, and the order of the moving average, respectively. "
   ]
  },
  {
   "cell_type": "code",
   "execution_count": 114,
   "metadata": {},
   "outputs": [
    {
     "name": "stderr",
     "output_type": "stream",
     "text": [
      "/home/olli/.local/lib/python3.8/site-packages/statsmodels/tsa/base/tsa_model.py:471: ValueWarning: No frequency information was provided, so inferred frequency D will be used.\n",
      "  self._init_dates(dates, freq)\n",
      "/home/olli/.local/lib/python3.8/site-packages/statsmodels/tsa/base/tsa_model.py:471: ValueWarning: No frequency information was provided, so inferred frequency D will be used.\n",
      "  self._init_dates(dates, freq)\n",
      "/home/olli/.local/lib/python3.8/site-packages/statsmodels/tsa/base/tsa_model.py:471: ValueWarning: No frequency information was provided, so inferred frequency D will be used.\n",
      "  self._init_dates(dates, freq)\n",
      "/home/olli/.local/lib/python3.8/site-packages/statsmodels/tsa/statespace/sarimax.py:966: UserWarning: Non-stationary starting autoregressive parameters found. Using zeros as starting parameters.\n",
      "  warn('Non-stationary starting autoregressive parameters'\n",
      "/home/olli/.local/lib/python3.8/site-packages/statsmodels/base/model.py:604: ConvergenceWarning: Maximum Likelihood optimization failed to converge. Check mle_retvals\n",
      "  warnings.warn(\"Maximum Likelihood optimization failed to \"\n"
     ]
    }
   ],
   "source": [
    "# ARIMA\n",
    "# import the model\n",
    "from statsmodels.tsa.arima.model import ARIMA\n",
    "\n",
    "# create the model\n",
    "model = ARIMA(df.sales, order=(40,1,10))\n",
    "\n",
    "# fit the model\n",
    "model_fit = model.fit()\n",
    "\n",
    "# predict the sales\n",
    "y_pred = model_fit.forecast(steps=len(y_test))[0]"
   ]
  },
  {
   "cell_type": "code",
   "execution_count": 115,
   "metadata": {},
   "outputs": [
    {
     "ename": "IndexError",
     "evalue": "invalid index to scalar variable.",
     "output_type": "error",
     "traceback": [
      "\u001b[0;31m---------------------------------------------------------------------------\u001b[0m",
      "\u001b[0;31mIndexError\u001b[0m                                Traceback (most recent call last)",
      "\u001b[1;32m/home/olli/Desktop/Koodauskrääsää/sales-prediction-ex/sales_pred.ipynb Cell 24\u001b[0m in \u001b[0;36m<cell line: 8>\u001b[0;34m()\u001b[0m\n\u001b[1;32m      <a href='vscode-notebook-cell:/home/olli/Desktop/Koodauskr%C3%A4%C3%A4s%C3%A4%C3%A4/sales-prediction-ex/sales_pred.ipynb#X24sZmlsZQ%3D%3D?line=4'>5</a>\u001b[0m date_rng \u001b[39m=\u001b[39m pandas\u001b[39m.\u001b[39mdate_range(start\u001b[39m=\u001b[39mdf\u001b[39m.\u001b[39msales\u001b[39m.\u001b[39mindex[\u001b[39m-\u001b[39m\u001b[39m1\u001b[39m], periods\u001b[39m=\u001b[39mdays_ahead\u001b[39m+\u001b[39m\u001b[39m1\u001b[39m, freq\u001b[39m=\u001b[39m\u001b[39m'\u001b[39m\u001b[39mD\u001b[39m\u001b[39m'\u001b[39m)\n\u001b[1;32m      <a href='vscode-notebook-cell:/home/olli/Desktop/Koodauskr%C3%A4%C3%A4s%C3%A4%C3%A4/sales-prediction-ex/sales_pred.ipynb#X24sZmlsZQ%3D%3D?line=6'>7</a>\u001b[0m \u001b[39m# set the date range as the index for y_pred\u001b[39;00m\n\u001b[0;32m----> <a href='vscode-notebook-cell:/home/olli/Desktop/Koodauskr%C3%A4%C3%A4s%C3%A4%C3%A4/sales-prediction-ex/sales_pred.ipynb#X24sZmlsZQ%3D%3D?line=7'>8</a>\u001b[0m y_pred \u001b[39m=\u001b[39m pandas\u001b[39m.\u001b[39mSeries(y_pred[:,\u001b[39m0\u001b[39;49m], index\u001b[39m=\u001b[39mdate_rng[\u001b[39m1\u001b[39m:])\n\u001b[1;32m     <a href='vscode-notebook-cell:/home/olli/Desktop/Koodauskr%C3%A4%C3%A4s%C3%A4%C3%A4/sales-prediction-ex/sales_pred.ipynb#X24sZmlsZQ%3D%3D?line=9'>10</a>\u001b[0m \u001b[39m# plot the train set and y_pred and y_test\u001b[39;00m\n\u001b[1;32m     <a href='vscode-notebook-cell:/home/olli/Desktop/Koodauskr%C3%A4%C3%A4s%C3%A4%C3%A4/sales-prediction-ex/sales_pred.ipynb#X24sZmlsZQ%3D%3D?line=10'>11</a>\u001b[0m df\u001b[39m.\u001b[39msales\u001b[39m.\u001b[39mplot()\n",
      "\u001b[0;31mIndexError\u001b[0m: invalid index to scalar variable."
     ]
    }
   ],
   "source": [
    "# calculate the number of days ahead\n",
    "days_ahead = len(y_test)\n",
    "\n",
    "# create a date range for the next n days\n",
    "date_rng = pandas.date_range(start=df.sales.index[-1], periods=days_ahead+1, freq='D')\n",
    "\n",
    "# set the date range as the index for y_pred\n",
    "y_pred = pandas.Series(y_pred[:,0], index=date_rng[1:])\n",
    "\n",
    "# plot the train set and y_pred and y_test\n",
    "df.sales.plot()\n",
    "y_pred.plot()"
   ]
  },
  {
   "cell_type": "code",
   "execution_count": null,
   "metadata": {},
   "outputs": [
    {
     "name": "stderr",
     "output_type": "stream",
     "text": [
      "10:06:30 - cmdstanpy - INFO - Chain [1] start processing\n",
      "10:06:30 - cmdstanpy - INFO - Chain [1] done processing\n"
     ]
    },
    {
     "data": {
      "text/plain": [
       "<AxesSubplot:xlabel='date'>"
      ]
     },
     "execution_count": 90,
     "metadata": {},
     "output_type": "execute_result"
    },
    {
     "data": {
      "image/png": "[encoded data removed]",
      "text/plain": [
       "<Figure size 432x288 with 1 Axes>"
      ]
     },
     "metadata": {
      "needs_background": "light"
     },
     "output_type": "display_data"
    }
   ],
   "source": [
    "# Prophet\n",
    "# import the model\n",
    "from prophet import Prophet\n",
    "\n",
    "# create the model\n",
    "model = Prophet()\n",
    "\n",
    "# create the dataframe\n",
    "df.reset_index(inplace=True)\n",
    "df_prophet = df.rename(columns={'date': 'ds', 'sales': 'y'})\n",
    "\n",
    "# fit the model\n",
    "model.fit(df_prophet)\n",
    "\n",
    "# create the future dataframe\n",
    "future = model.make_future_dataframe(periods=len(y_test))\n",
    "\n",
    "# predict the sales\n",
    "forecast = model.predict(future)\n",
    "\n",
    "# plot the train set and y_pred and y_test\n",
    "y_train.plot()\n",
    "forecast.set_index('ds').yhat[-len(y_test):].plot()\n",
    "y_test.plot()"
   ]
  },
  {
   "cell_type": "code",
   "execution_count": null,
   "metadata": {},
   "outputs": [],
   "source": [
    "# reshape the data for LSTM\n",
    "X_train = X_train.values.reshape((X_train.shape[0], 1, X_train.shape[1]))\n",
    "X_test = X_test.values.reshape((X_test.shape[0], 1, X_test.shape[1]))"
   ]
  },
  {
   "cell_type": "code",
   "execution_count": null,
   "metadata": {},
   "outputs": [],
   "source": [
    "# reshape the data for LSTM\n",
    "X = X.values.reshape((X.shape[0], 1, X.shape[1]))"
   ]
  },
  {
   "cell_type": "code",
   "execution_count": null,
   "metadata": {},
   "outputs": [
    {
     "name": "stdout",
     "output_type": "stream",
     "text": [
      "28/28 [==============================] - 0s 1ms/step\n"
     ]
    },
    {
     "ename": "ValueError",
     "evalue": "Length of values (139) does not match length of index (28)",
     "output_type": "error",
     "traceback": [
      "\u001b[0;31m---------------------------------------------------------------------------\u001b[0m",
      "\u001b[0;31mValueError\u001b[0m                                Traceback (most recent call last)",
      "\u001b[1;32m/home/olli/Desktop/Koodauskrääsää/sales-prediction-ex/sales_pred.ipynb Cell 25\u001b[0m in \u001b[0;36m<cell line: 26>\u001b[0;34m()\u001b[0m\n\u001b[1;32m     <a href='vscode-notebook-cell:/home/olli/Desktop/Koodauskr%C3%A4%C3%A4s%C3%A4%C3%A4/sales-prediction-ex/sales_pred.ipynb#X25sZmlsZQ%3D%3D?line=22'>23</a>\u001b[0m date_rng \u001b[39m=\u001b[39m pandas\u001b[39m.\u001b[39mdate_range(start\u001b[39m=\u001b[39my_test\u001b[39m.\u001b[39mindex[\u001b[39m-\u001b[39m\u001b[39m1\u001b[39m], periods\u001b[39m=\u001b[39mdays_ahead\u001b[39m+\u001b[39m\u001b[39m1\u001b[39m, freq\u001b[39m=\u001b[39m\u001b[39m'\u001b[39m\u001b[39mD\u001b[39m\u001b[39m'\u001b[39m)\n\u001b[1;32m     <a href='vscode-notebook-cell:/home/olli/Desktop/Koodauskr%C3%A4%C3%A4s%C3%A4%C3%A4/sales-prediction-ex/sales_pred.ipynb#X25sZmlsZQ%3D%3D?line=24'>25</a>\u001b[0m \u001b[39m# set the date range as the index for y_pred\u001b[39;00m\n\u001b[0;32m---> <a href='vscode-notebook-cell:/home/olli/Desktop/Koodauskr%C3%A4%C3%A4s%C3%A4%C3%A4/sales-prediction-ex/sales_pred.ipynb#X25sZmlsZQ%3D%3D?line=25'>26</a>\u001b[0m y_pred \u001b[39m=\u001b[39m pandas\u001b[39m.\u001b[39;49mSeries(y_pred[:,\u001b[39m0\u001b[39;49m], index\u001b[39m=\u001b[39;49mdate_rng[\u001b[39m1\u001b[39;49m:])\n\u001b[1;32m     <a href='vscode-notebook-cell:/home/olli/Desktop/Koodauskr%C3%A4%C3%A4s%C3%A4%C3%A4/sales-prediction-ex/sales_pred.ipynb#X25sZmlsZQ%3D%3D?line=27'>28</a>\u001b[0m \u001b[39m# plot the train set and y_pred and y_test\u001b[39;00m\n\u001b[1;32m     <a href='vscode-notebook-cell:/home/olli/Desktop/Koodauskr%C3%A4%C3%A4s%C3%A4%C3%A4/sales-prediction-ex/sales_pred.ipynb#X25sZmlsZQ%3D%3D?line=28'>29</a>\u001b[0m y\u001b[39m.\u001b[39mplot()\n",
      "File \u001b[0;32m~/.local/lib/python3.8/site-packages/pandas/core/series.py:442\u001b[0m, in \u001b[0;36mSeries.__init__\u001b[0;34m(self, data, index, dtype, name, copy, fastpath)\u001b[0m\n\u001b[1;32m    440\u001b[0m     index \u001b[39m=\u001b[39m default_index(\u001b[39mlen\u001b[39m(data))\n\u001b[1;32m    441\u001b[0m \u001b[39melif\u001b[39;00m is_list_like(data):\n\u001b[0;32m--> 442\u001b[0m     com\u001b[39m.\u001b[39;49mrequire_length_match(data, index)\n\u001b[1;32m    444\u001b[0m \u001b[39m# create/copy the manager\u001b[39;00m\n\u001b[1;32m    445\u001b[0m \u001b[39mif\u001b[39;00m \u001b[39misinstance\u001b[39m(data, (SingleBlockManager, SingleArrayManager)):\n",
      "File \u001b[0;32m~/.local/lib/python3.8/site-packages/pandas/core/common.py:557\u001b[0m, in \u001b[0;36mrequire_length_match\u001b[0;34m(data, index)\u001b[0m\n\u001b[1;32m    553\u001b[0m \u001b[39m\"\"\"\u001b[39;00m\n\u001b[1;32m    554\u001b[0m \u001b[39mCheck the length of data matches the length of the index.\u001b[39;00m\n\u001b[1;32m    555\u001b[0m \u001b[39m\"\"\"\u001b[39;00m\n\u001b[1;32m    556\u001b[0m \u001b[39mif\u001b[39;00m \u001b[39mlen\u001b[39m(data) \u001b[39m!=\u001b[39m \u001b[39mlen\u001b[39m(index):\n\u001b[0;32m--> 557\u001b[0m     \u001b[39mraise\u001b[39;00m \u001b[39mValueError\u001b[39;00m(\n\u001b[1;32m    558\u001b[0m         \u001b[39m\"\u001b[39m\u001b[39mLength of values \u001b[39m\u001b[39m\"\u001b[39m\n\u001b[1;32m    559\u001b[0m         \u001b[39mf\u001b[39m\u001b[39m\"\u001b[39m\u001b[39m(\u001b[39m\u001b[39m{\u001b[39;00m\u001b[39mlen\u001b[39m(data)\u001b[39m}\u001b[39;00m\u001b[39m) \u001b[39m\u001b[39m\"\u001b[39m\n\u001b[1;32m    560\u001b[0m         \u001b[39m\"\u001b[39m\u001b[39mdoes not match length of index \u001b[39m\u001b[39m\"\u001b[39m\n\u001b[1;32m    561\u001b[0m         \u001b[39mf\u001b[39m\u001b[39m\"\u001b[39m\u001b[39m(\u001b[39m\u001b[39m{\u001b[39;00m\u001b[39mlen\u001b[39m(index)\u001b[39m}\u001b[39;00m\u001b[39m)\u001b[39m\u001b[39m\"\u001b[39m\n\u001b[1;32m    562\u001b[0m     )\n",
      "\u001b[0;31mValueError\u001b[0m: Length of values (139) does not match length of index (28)"
     ]
    }
   ],
   "source": [
    "# LSTM\n",
    "# import the model\n",
    "from keras.models import Sequential\n",
    "from keras.layers import Dense\n",
    "from keras.layers import LSTM\n",
    "\n",
    "# create the model\n",
    "model = Sequential()\n",
    "model.add(LSTM(50, activation='relu', input_shape=(X_train.shape[1], X_train.shape[2])))\n",
    "model.add(Dense(1))\n",
    "model.compile(optimizer='adam', loss='mse')\n",
    "\n",
    "# fit the model\n",
    "model.fit(X, y, epochs=300, verbose=0)\n",
    "\n",
    "# predict the sales\n",
    "y_pred = model.predict(X, steps=(len(y_test)))\n",
    "\n",
    "# calculate the number of days ahead\n",
    "days_ahead = len(y_test)\n",
    "\n",
    "# create a date range for the next n days\n",
    "date_rng = pandas.date_range(start=y_test.index[-1], periods=days_ahead+1, freq='D')\n",
    "\n",
    "# set the date range as the index for y_pred\n",
    "y_pred = pandas.Series(y_pred[:,0], index=date_rng[1:])\n",
    "\n",
    "# plot the train set and y_pred and y_test\n",
    "y.plot()\n",
    "y_pred.plot()\n",
    "\n",
    "# # calculate the mean absolute error\n",
    "# mean_absolute_error(y_test, y_pred[:,0])"
   ]
  },
  {
   "cell_type": "code",
   "execution_count": null,
   "metadata": {},
   "outputs": [],
   "source": []
  }
 ],
 "metadata": {
  "kernelspec": {
   "display_name": "Python 3",
   "language": "python",
   "name": "python3"
  },
  "language_info": {
   "codemirror_mode": {
    "name": "ipython",
    "version": 3
   },
   "file_extension": ".py",
   "mimetype": "text/x-python",
   "name": "python",
   "nbconvert_exporter": "python",
   "pygments_lexer": "ipython3",
   "version": "3.8.10"
  },
  "orig_nbformat": 4,
  "vscode": {
   "interpreter": {
    "hash": "916dbcbb3f70747c44a77c7bcd40155683ae19c65e1c03b4aa3499c5328201f1"
   }
  }
 },
 "nbformat": 4,
 "nbformat_minor": 2
}
